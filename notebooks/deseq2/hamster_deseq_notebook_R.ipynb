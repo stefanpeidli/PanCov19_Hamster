{
 "cells": [
  {
   "cell_type": "code",
   "execution_count": 1,
   "id": "42c9b01e",
   "metadata": {
    "ExecuteTime": {
     "end_time": "2023-01-31T08:56:12.183264Z",
     "start_time": "2023-01-31T08:56:08.350Z"
    },
    "vscode": {
     "languageId": "r"
    }
   },
   "outputs": [],
   "source": [
    "suppressMessages(library('DESeq2'))\n",
    "library('BiocParallel')\n",
    "register(MulticoreParam(4))"
   ]
  },
  {
   "cell_type": "code",
   "execution_count": 2,
   "id": "5e2b987e",
   "metadata": {
    "ExecuteTime": {
     "end_time": "2023-01-31T10:05:06.589473Z",
     "start_time": "2023-01-31T10:05:06.557Z"
    },
    "vscode": {
     "languageId": "r"
    }
   },
   "outputs": [],
   "source": [
    "config <- yaml::read_yaml('../../config/config.yaml')\n",
    "data_path <- config$data_path\n",
    "tmp_path <- config$tmp_path\n",
    "\n",
    "# local work\n",
    "data_path <- '../../data/'\n",
    "deseq2_results_path <- '../../results/DESeq2/hamster/'"
   ]
  },
  {
   "cell_type": "code",
   "execution_count": 3,
   "id": "dcc133fe",
   "metadata": {
    "ExecuteTime": {
     "end_time": "2023-01-31T09:14:06.273576Z",
     "start_time": "2023-01-31T09:14:02.520Z"
    },
    "vscode": {
     "languageId": "r"
    }
   },
   "outputs": [],
   "source": [
    "# load data\n",
    "countData <- read.csv(file = paste0(data_path, \"all_hamsters_countData.csv\"), row.names=1)\n",
    "colData <- read.csv(file = paste0(data_path, \"all_hamsters_colData.csv\"))"
   ]
  },
  {
   "cell_type": "code",
   "execution_count": 4,
   "id": "4e31e1bf",
   "metadata": {
    "ExecuteTime": {
     "end_time": "2023-01-31T09:14:19.052088Z",
     "start_time": "2023-01-31T09:14:19.023Z"
    },
    "vscode": {
     "languageId": "r"
    }
   },
   "outputs": [
    {
     "data": {
      "text/html": [
       "<table class=\"dataframe\">\n",
       "<caption>A data.frame: 6 x 6</caption>\n",
       "<thead>\n",
       "\t<tr><th></th><th scope=col>time</th><th scope=col>organism</th><th scope=col>replicate</th><th scope=col>celltype</th><th scope=col>dosage</th><th scope=col>ncells</th></tr>\n",
       "\t<tr><th></th><th scope=col>&lt;chr&gt;</th><th scope=col>&lt;chr&gt;</th><th scope=col>&lt;chr&gt;</th><th scope=col>&lt;chr&gt;</th><th scope=col>&lt;chr&gt;</th><th scope=col>&lt;int&gt;</th></tr>\n",
       "</thead>\n",
       "<tbody>\n",
       "\t<tr><th scope=row>1</th><td>D0</td><td>Dwarfhamster</td><td>sample0</td><td>NK cells               </td><td>no dose</td><td> 15</td></tr>\n",
       "\t<tr><th scope=row>2</th><td>D0</td><td>Dwarfhamster</td><td>sample0</td><td>Bcells                 </td><td>no dose</td><td>730</td></tr>\n",
       "\t<tr><th scope=row>3</th><td>D0</td><td>Dwarfhamster</td><td>sample0</td><td>Treml4+Macrophages     </td><td>no dose</td><td>182</td></tr>\n",
       "\t<tr><th scope=row>4</th><td>D0</td><td>Dwarfhamster</td><td>sample0</td><td>Bronchial              </td><td>no dose</td><td>211</td></tr>\n",
       "\t<tr><th scope=row>5</th><td>D0</td><td>Dwarfhamster</td><td>sample0</td><td>InterstitialMacrophages</td><td>no dose</td><td> 19</td></tr>\n",
       "\t<tr><th scope=row>6</th><td>D0</td><td>Dwarfhamster</td><td>sample0</td><td>CD4+ T cells           </td><td>no dose</td><td>223</td></tr>\n",
       "</tbody>\n",
       "</table>\n"
      ],
      "text/latex": [
       "A data.frame: 6 x 6\n",
       "\\begin{tabular}{r|llllll}\n",
       "  & time & organism & replicate & celltype & dosage & ncells\\\\\n",
       "  & <chr> & <chr> & <chr> & <chr> & <chr> & <int>\\\\\n",
       "\\hline\n",
       "\t1 & D0 & Dwarfhamster & sample0 & NK cells                & no dose &  15\\\\\n",
       "\t2 & D0 & Dwarfhamster & sample0 & Bcells                  & no dose & 730\\\\\n",
       "\t3 & D0 & Dwarfhamster & sample0 & Treml4+Macrophages      & no dose & 182\\\\\n",
       "\t4 & D0 & Dwarfhamster & sample0 & Bronchial               & no dose & 211\\\\\n",
       "\t5 & D0 & Dwarfhamster & sample0 & InterstitialMacrophages & no dose &  19\\\\\n",
       "\t6 & D0 & Dwarfhamster & sample0 & CD4+ T cells            & no dose & 223\\\\\n",
       "\\end{tabular}\n"
      ],
      "text/markdown": [
       "\n",
       "A data.frame: 6 x 6\n",
       "\n",
       "| <!--/--> | time &lt;chr&gt; | organism &lt;chr&gt; | replicate &lt;chr&gt; | celltype &lt;chr&gt; | dosage &lt;chr&gt; | ncells &lt;int&gt; |\n",
       "|---|---|---|---|---|---|---|\n",
       "| 1 | D0 | Dwarfhamster | sample0 | NK cells                | no dose |  15 |\n",
       "| 2 | D0 | Dwarfhamster | sample0 | Bcells                  | no dose | 730 |\n",
       "| 3 | D0 | Dwarfhamster | sample0 | Treml4+Macrophages      | no dose | 182 |\n",
       "| 4 | D0 | Dwarfhamster | sample0 | Bronchial               | no dose | 211 |\n",
       "| 5 | D0 | Dwarfhamster | sample0 | InterstitialMacrophages | no dose |  19 |\n",
       "| 6 | D0 | Dwarfhamster | sample0 | CD4+ T cells            | no dose | 223 |\n",
       "\n"
      ],
      "text/plain": [
       "  time organism     replicate celltype                dosage  ncells\n",
       "1 D0   Dwarfhamster sample0   NK cells                no dose  15   \n",
       "2 D0   Dwarfhamster sample0   Bcells                  no dose 730   \n",
       "3 D0   Dwarfhamster sample0   Treml4+Macrophages      no dose 182   \n",
       "4 D0   Dwarfhamster sample0   Bronchial               no dose 211   \n",
       "5 D0   Dwarfhamster sample0   InterstitialMacrophages no dose  19   \n",
       "6 D0   Dwarfhamster sample0   CD4+ T cells            no dose 223   "
      ]
     },
     "metadata": {},
     "output_type": "display_data"
    }
   ],
   "source": [
    "head(colData)"
   ]
  },
  {
   "cell_type": "code",
   "execution_count": 5,
   "id": "8ed16c9e",
   "metadata": {
    "ExecuteTime": {
     "end_time": "2023-01-31T09:15:20.930107Z",
     "start_time": "2023-01-31T09:15:20.900Z"
    },
    "vscode": {
     "languageId": "r"
    }
   },
   "outputs": [],
   "source": [
    "# collapse Endo subtypes\n",
    "colData$celltype = replace(colData$celltype, colData$celltype=='Capillary', 'Endothelials')\n",
    "colData$celltype = replace(colData$celltype, colData$celltype=='Vein', 'Endothelials')\n",
    "colData$celltype = replace(colData$celltype, colData$celltype=='Bronchial', 'Endothelials')\n",
    "colData$celltype = replace(colData$celltype, colData$celltype=='Artery', 'Endothelials')\n",
    "\n",
    "# collapse Macro subtypes\n",
    "colData$celltype = replace(colData$celltype, colData$celltype=='AlveolarMacrophages', 'Macrophages')\n",
    "colData$celltype = replace(colData$celltype, colData$celltype=='Treml4+Macrophages', 'Macrophages')\n",
    "colData$celltype = replace(colData$celltype, colData$celltype=='InterstitialMacrophages', 'Macrophages')\n",
    "colData$celltype = replace(colData$celltype, colData$celltype=='MonocyticMacrophages', 'Macrophages')"
   ]
  },
  {
   "attachments": {},
   "cell_type": "markdown",
   "id": "d87a5ed8",
   "metadata": {
    "heading_collapsed": true
   },
   "source": [
    "# Manual test"
   ]
  },
  {
   "cell_type": "code",
   "execution_count": 6,
   "id": "047b097f",
   "metadata": {
    "ExecuteTime": {
     "end_time": "2023-01-31T09:23:52.552776Z",
     "start_time": "2023-01-31T09:23:52.524Z"
    },
    "hidden": true,
    "vscode": {
     "languageId": "r"
    }
   },
   "outputs": [],
   "source": [
    "celltype = 'Neutrophils'"
   ]
  },
  {
   "cell_type": "code",
   "execution_count": 7,
   "id": "f9c9eb5a",
   "metadata": {
    "ExecuteTime": {
     "end_time": "2023-01-31T09:28:17.285171Z",
     "start_time": "2023-01-31T09:28:17.260Z"
    },
    "hidden": true,
    "vscode": {
     "languageId": "r"
    }
   },
   "outputs": [],
   "source": [
    "# select times where we can compare organisms (there is no D5 and E14 in Dwarf).\n",
    "# exclude low dose samples\n",
    "# exclude groups with less than 20 cells (we heuristically deem a pseudobulk of less than that many cells inadequate)\n",
    "mask = colData$celltype %in% c(celltype) & colData$time %in% c('D0', 'D2', 'D3') &\n",
    "       colData$time != 'low dose' & colData$ncells >= 20\n",
    "scolData = colData[mask, ]\n",
    "scountData = countData[, mask]"
   ]
  },
  {
   "cell_type": "code",
   "execution_count": 8,
   "id": "f3dbf7f7",
   "metadata": {
    "ExecuteTime": {
     "end_time": "2023-01-31T09:28:35.968940Z",
     "start_time": "2023-01-31T09:28:30.740Z"
    },
    "hidden": true,
    "vscode": {
     "languageId": "r"
    }
   },
   "outputs": [
    {
     "name": "stderr",
     "output_type": "stream",
     "text": [
      "converting counts to integer mode\n",
      "\n",
      "Warning message in DESeqDataSet(se, design = design, ignoreRank):\n",
      "\"some variables in design formula are characters, converting to factors\"\n",
      "estimating size factors\n",
      "\n",
      "estimating dispersions\n",
      "\n",
      "gene-wise dispersion estimates\n",
      "\n",
      "mean-dispersion relationship\n",
      "\n",
      "final dispersion estimates\n",
      "\n",
      "fitting model and testing\n",
      "\n"
     ]
    }
   ],
   "source": [
    "# this is where the magic happens\n",
    "design = ~ time + organism + time:organism\n",
    "reduced = ~ time + organism\n",
    "\n",
    "# Setup data and supply design matrix\n",
    "dds <- DESeqDataSetFromMatrix(countData = scountData, colData = scolData,\n",
    "                              design = design)\n",
    "\n",
    "# Filter genes below 10 counts in total\n",
    "dds <- dds[rowSums(counts(dds)) >= 10,]\n",
    "# Setup deseq with single cell recommendations, add reduced design matrix\n",
    "dds <- DESeq(dds, test=\"LRT\", minReplicatesForReplace=Inf, reduced=reduced)"
   ]
  },
  {
   "cell_type": "code",
   "execution_count": 9,
   "id": "17c30b24",
   "metadata": {
    "ExecuteTime": {
     "end_time": "2023-01-31T09:28:46.069988Z",
     "start_time": "2023-01-31T09:28:45.937Z"
    },
    "hidden": true,
    "vscode": {
     "languageId": "r"
    }
   },
   "outputs": [],
   "source": [
    "# Extract results\n",
    "res <- results(dds, name='timeD2.organismGoldhamster')\n",
    "resOrdered <- res[order(res$pvalue),]"
   ]
  },
  {
   "cell_type": "code",
   "execution_count": 10,
   "id": "d1790da3",
   "metadata": {
    "ExecuteTime": {
     "end_time": "2023-01-31T09:30:10.591173Z",
     "start_time": "2023-01-31T09:30:10.500Z"
    },
    "hidden": true,
    "vscode": {
     "languageId": "r"
    }
   },
   "outputs": [],
   "source": [
    "#write.csv(as.data.frame(resOrdered), \n",
    "#          file=paste0(\"../../results/DESeq2/hamster/\", celltype, \"_GoldvsDwarf_interaction_D2.csv\"))"
   ]
  },
  {
   "attachments": {},
   "cell_type": "markdown",
   "id": "a4f17837",
   "metadata": {
    "heading_collapsed": true
   },
   "source": [
    "# run1"
   ]
  },
  {
   "cell_type": "code",
   "execution_count": 11,
   "id": "edf61a77",
   "metadata": {
    "ExecuteTime": {
     "end_time": "2023-01-31T09:43:00.451586Z",
     "start_time": "2023-01-31T09:42:34.596Z"
    },
    "code_folding": [],
    "hidden": true,
    "vscode": {
     "languageId": "r"
    }
   },
   "outputs": [
    {
     "name": "stderr",
     "output_type": "stream",
     "text": [
      "converting counts to integer mode\n",
      "\n",
      "Warning message in DESeqDataSet(se, design = design, ignoreRank):\n",
      "\"some variables in design formula are characters, converting to factors\"\n",
      "estimating size factors\n",
      "\n",
      "estimating dispersions\n",
      "\n",
      "gene-wise dispersion estimates\n",
      "\n",
      "mean-dispersion relationship\n",
      "\n",
      "final dispersion estimates\n",
      "\n",
      "fitting model and testing\n",
      "\n",
      "converting counts to integer mode\n",
      "\n",
      "Warning message in DESeqDataSet(se, design = design, ignoreRank):\n",
      "\"some variables in design formula are characters, converting to factors\"\n",
      "estimating size factors\n",
      "\n",
      "estimating dispersions\n",
      "\n",
      "gene-wise dispersion estimates\n",
      "\n",
      "mean-dispersion relationship\n",
      "\n",
      "final dispersion estimates\n",
      "\n",
      "fitting model and testing\n",
      "\n",
      "converting counts to integer mode\n",
      "\n",
      "Warning message in DESeqDataSet(se, design = design, ignoreRank):\n",
      "\"some variables in design formula are characters, converting to factors\"\n",
      "estimating size factors\n",
      "\n",
      "estimating dispersions\n",
      "\n",
      "gene-wise dispersion estimates\n",
      "\n",
      "mean-dispersion relationship\n",
      "\n",
      "final dispersion estimates\n",
      "\n",
      "fitting model and testing\n",
      "\n",
      "converting counts to integer mode\n",
      "\n",
      "Warning message in DESeqDataSet(se, design = design, ignoreRank):\n",
      "\"some variables in design formula are characters, converting to factors\"\n",
      "estimating size factors\n",
      "\n",
      "estimating dispersions\n",
      "\n",
      "gene-wise dispersion estimates\n",
      "\n",
      "mean-dispersion relationship\n",
      "\n",
      "final dispersion estimates\n",
      "\n",
      "fitting model and testing\n",
      "\n",
      "converting counts to integer mode\n",
      "\n",
      "Warning message in DESeqDataSet(se, design = design, ignoreRank):\n",
      "\"some variables in design formula are characters, converting to factors\"\n",
      "estimating size factors\n",
      "\n",
      "estimating dispersions\n",
      "\n",
      "gene-wise dispersion estimates\n",
      "\n",
      "mean-dispersion relationship\n",
      "\n",
      "final dispersion estimates\n",
      "\n",
      "fitting model and testing\n",
      "\n",
      "converting counts to integer mode\n",
      "\n",
      "Warning message in DESeqDataSet(se, design = design, ignoreRank):\n",
      "\"some variables in design formula are characters, converting to factors\"\n",
      "estimating size factors\n",
      "\n",
      "estimating dispersions\n",
      "\n",
      "gene-wise dispersion estimates\n",
      "\n",
      "mean-dispersion relationship\n",
      "\n",
      "final dispersion estimates\n",
      "\n",
      "fitting model and testing\n",
      "\n",
      "converting counts to integer mode\n",
      "\n",
      "Warning message in DESeqDataSet(se, design = design, ignoreRank):\n",
      "\"some variables in design formula are characters, converting to factors\"\n",
      "estimating size factors\n",
      "\n",
      "estimating dispersions\n",
      "\n",
      "gene-wise dispersion estimates\n",
      "\n",
      "mean-dispersion relationship\n",
      "\n",
      "final dispersion estimates\n",
      "\n",
      "fitting model and testing\n",
      "\n",
      "converting counts to integer mode\n",
      "\n",
      "Warning message in DESeqDataSet(se, design = design, ignoreRank):\n",
      "\"some variables in design formula are characters, converting to factors\"\n",
      "estimating size factors\n",
      "\n",
      "estimating dispersions\n",
      "\n",
      "gene-wise dispersion estimates\n",
      "\n",
      "mean-dispersion relationship\n",
      "\n",
      "final dispersion estimates\n",
      "\n",
      "fitting model and testing\n",
      "\n",
      "converting counts to integer mode\n",
      "\n",
      "Warning message in DESeqDataSet(se, design = design, ignoreRank):\n",
      "\"some variables in design formula are characters, converting to factors\"\n",
      "estimating size factors\n",
      "\n",
      "estimating dispersions\n",
      "\n",
      "gene-wise dispersion estimates\n",
      "\n",
      "mean-dispersion relationship\n",
      "\n",
      "final dispersion estimates\n",
      "\n",
      "fitting model and testing\n",
      "\n"
     ]
    }
   ],
   "source": [
    "# run 1 DESeq2 per celltype per organism: \n",
    "# Tests Day X w.r.t D0 where X is a time after infection.\n",
    "# Tests per celltype and low/high dose separately.\n",
    "for (celltype in c('Neutrophils', 'Endothelials', 'Macrophages')){\n",
    "    for (organism in c('Goldhamster', 'Dwarfhamster_hd', 'Dwarfhamster_ld')){\n",
    "        # Define what to test\n",
    "        if (organism=='Goldhamster') {\n",
    "            times = c('D2', 'D3', 'D5', 'E14')\n",
    "            dosage_str = ''\n",
    "            dosage_to_exclude = 'None'\n",
    "        } else {\n",
    "            times = c('D2', 'D3')\n",
    "            if (grepl('ld', organism, fixed = TRUE)){\n",
    "                dosage_str = '_ld'\n",
    "                dosage_to_exclude = 'high dose'\n",
    "            } else {\n",
    "                dosage_str = '_hd'\n",
    "                dosage_to_exclude = 'low dose'\n",
    "            }\n",
    "            organism = 'Dwarfhamster'\n",
    "        }\n",
    "        # Mask samples accordingly\n",
    "        mask = colData$celltype %in% c(celltype) & colData$organism %in% c(organism) &\n",
    "        colData$dosage != dosage_to_exclude & colData$ncells >= 20\n",
    "        \n",
    "        scolData = colData[mask, ]\n",
    "        scountData = countData[, mask]\n",
    "        \n",
    "        # Setup data and supply design matrix\n",
    "        dds <- DESeqDataSetFromMatrix(countData = scountData, colData = scolData,\n",
    "                                      design = ~ time)\n",
    "        dds <- collapseReplicates(dds, dds$replicate)\n",
    "        # Filter genes below 10 counts in total\n",
    "        dds <- dds[rowSums(counts(dds)) >= 10,]\n",
    "        # Setup deseq with single cell recommendations, add reduced design matrix\n",
    "        dds <- DESeq(dds, test=\"LRT\", minReplicatesForReplace=Inf, reduced= ~ 1)\n",
    "        \n",
    "        for (time in times){\n",
    "            res <- results(dds, contrast=c(\"time\", time, \"D0\"))\n",
    "            resOrdered <- res[order(res$pvalue),]\n",
    "            file = paste0(deseq2_results_path, celltype, \"_\", organism, dosage_str, \"_\", time, \"_vs_D0.csv\")\n",
    "            write.csv(as.data.frame(resOrdered), file=file)\n",
    "        }\n",
    "    }\n",
    "}\n"
   ]
  },
  {
   "cell_type": "code",
   "execution_count": 12,
   "id": "95832dff",
   "metadata": {
    "ExecuteTime": {
     "end_time": "2023-01-31T10:04:04.079644Z",
     "start_time": "2023-01-31T10:03:53.669Z"
    },
    "hidden": true,
    "vscode": {
     "languageId": "r"
    }
   },
   "outputs": [
    {
     "name": "stderr",
     "output_type": "stream",
     "text": [
      "converting counts to integer mode\n",
      "\n",
      "Warning message in DESeqDataSet(se, design = design, ignoreRank):\n",
      "\"some variables in design formula are characters, converting to factors\"\n",
      "estimating size factors\n",
      "\n",
      "estimating dispersions\n",
      "\n",
      "gene-wise dispersion estimates\n",
      "\n",
      "mean-dispersion relationship\n",
      "\n",
      "final dispersion estimates\n",
      "\n",
      "fitting model and testing\n",
      "\n",
      "converting counts to integer mode\n",
      "\n",
      "Warning message in DESeqDataSet(se, design = design, ignoreRank):\n",
      "\"some variables in design formula are characters, converting to factors\"\n",
      "estimating size factors\n",
      "\n",
      "estimating dispersions\n",
      "\n",
      "gene-wise dispersion estimates\n",
      "\n",
      "mean-dispersion relationship\n",
      "\n",
      "final dispersion estimates\n",
      "\n",
      "fitting model and testing\n",
      "\n",
      "converting counts to integer mode\n",
      "\n",
      "Warning message in DESeqDataSet(se, design = design, ignoreRank):\n",
      "\"some variables in design formula are characters, converting to factors\"\n",
      "estimating size factors\n",
      "\n",
      "estimating dispersions\n",
      "\n",
      "gene-wise dispersion estimates\n",
      "\n",
      "mean-dispersion relationship\n",
      "\n",
      "final dispersion estimates\n",
      "\n",
      "fitting model and testing\n",
      "\n"
     ]
    }
   ],
   "source": [
    "# run 1 DESeq2 per organism but for all celltypes merged: \n",
    "# Tests Day X w.r.t D0 where X is a time after infection.\n",
    "# Tests per celltype and low/high dose separately.\n",
    "for (organism in c('Goldhamster', 'Dwarfhamster_hd', 'Dwarfhamster_ld')){\n",
    "    # Define what to test\n",
    "    if (organism=='Goldhamster') {\n",
    "        times = c('D2', 'D3', 'D5', 'E14')\n",
    "        dosage_str = ''\n",
    "        dosage_to_exclude = 'None'\n",
    "    } else {\n",
    "        times = c('D2', 'D3')\n",
    "        if (grepl('ld', organism, fixed = TRUE)){\n",
    "            dosage_str = '_ld'\n",
    "            dosage_to_exclude = 'high dose'\n",
    "        } else {\n",
    "            dosage_str = '_hd'\n",
    "            dosage_to_exclude = 'low dose'\n",
    "        }\n",
    "        organism = 'Dwarfhamster'\n",
    "    }\n",
    "    # Mask samples accordingly\n",
    "    mask = colData$organism %in% c(organism) & colData$dosage != dosage_to_exclude\n",
    "\n",
    "    scolData = colData[mask, ]\n",
    "    scountData = countData[, mask]\n",
    "\n",
    "    # Setup data and supply design matrix\n",
    "    dds <- DESeqDataSetFromMatrix(countData = scountData, colData = scolData,\n",
    "                                  design = ~ time)\n",
    "    dds <- collapseReplicates(dds, dds$replicate)\n",
    "    # Filter genes below 10 counts in total\n",
    "    dds <- dds[rowSums(counts(dds)) >= 10,]\n",
    "    # Setup deseq with single cell recommendations, add reduced design matrix\n",
    "    dds <- DESeq(dds, test=\"LRT\", minReplicatesForReplace=Inf, reduced= ~ 1)\n",
    "\n",
    "    for (time in times){\n",
    "        res <- results(dds, contrast=c(\"time\", time, \"D0\"))\n",
    "        resOrdered <- res[order(res$pvalue),]\n",
    "        file = paste0(deseq2_results_path, \"Allcelltypes_\",organism, dosage_str, \"_\", time, \"_vs_D0.csv\")\n",
    "        write.csv(as.data.frame(resOrdered), file=file)\n",
    "    }\n",
    "}\n"
   ]
  },
  {
   "attachments": {},
   "cell_type": "markdown",
   "id": "6ad6e9c9",
   "metadata": {
    "heading_collapsed": true
   },
   "source": [
    "# run2 (failing)"
   ]
  },
  {
   "cell_type": "code",
   "execution_count": 13,
   "id": "c8bd8ab5",
   "metadata": {
    "ExecuteTime": {
     "end_time": "2023-01-31T10:13:19.308816Z",
     "start_time": "2023-01-31T10:12:09.621Z"
    },
    "code_folding": [],
    "hidden": true,
    "vscode": {
     "languageId": "r"
    }
   },
   "outputs": [
    {
     "name": "stderr",
     "output_type": "stream",
     "text": [
      "converting counts to integer mode\n",
      "\n",
      "Warning message in DESeqDataSet(se, design = design, ignoreRank):\n",
      "\"some variables in design formula are characters, converting to factors\"\n",
      "estimating size factors\n",
      "\n",
      "estimating dispersions\n",
      "\n",
      "gene-wise dispersion estimates\n",
      "\n",
      "mean-dispersion relationship\n",
      "\n",
      "final dispersion estimates\n",
      "\n",
      "fitting model and testing\n",
      "\n",
      "converting counts to integer mode\n",
      "\n",
      "Warning message in DESeqDataSet(se, design = design, ignoreRank):\n",
      "\"some variables in design formula are characters, converting to factors\"\n",
      "estimating size factors\n",
      "\n",
      "estimating dispersions\n",
      "\n",
      "gene-wise dispersion estimates\n",
      "\n",
      "mean-dispersion relationship\n",
      "\n",
      "final dispersion estimates\n",
      "\n",
      "fitting model and testing\n",
      "\n",
      "converting counts to integer mode\n",
      "\n",
      "Warning message in DESeqDataSet(se, design = design, ignoreRank):\n",
      "\"some variables in design formula are characters, converting to factors\"\n",
      "estimating size factors\n",
      "\n",
      "estimating dispersions\n",
      "\n",
      "gene-wise dispersion estimates\n",
      "\n",
      "mean-dispersion relationship\n",
      "\n",
      "final dispersion estimates\n",
      "\n",
      "fitting model and testing\n",
      "\n"
     ]
    }
   ],
   "source": [
    "# run 2 DESeq2 per celltype: time + organism vs time, \n",
    "# essentially tests which gene time courses are different between organisms in an constant way\n",
    "# We only look at Gold vs Dwarf High dose and only at comparable time points\n",
    "for (celltype in c('Neutrophils', 'Endothelials', 'Macrophages')){\n",
    "    mask = colData$celltype %in% c(celltype) & colData$time %in% c('D0', 'D2', 'D3') &\n",
    "           colData$dosage != 'low dose' & colData$ncells >= 20\n",
    "    scolData = colData[mask, ]\n",
    "    scountData = countData[, mask]\n",
    "\n",
    "    # Setup data and supply design matrix\n",
    "    dds <- DESeqDataSetFromMatrix(countData = scountData, colData = scolData,\n",
    "                                  design = ~ time + organism)\n",
    "    dds <- collapseReplicates(dds, dds$replicate)\n",
    "    # Filter genes below 10 counts in total\n",
    "    dds <- dds[rowSums(counts(dds)) >= 10,]\n",
    "    # Setup deseq with single cell recommendations, add reduced design matrix\n",
    "    dds <- DESeq(dds, test=\"LRT\", minReplicatesForReplace=Inf, reduced= ~ time)\n",
    "\n",
    "    res <- results(dds, contrast=c(\"organism\", 'Goldhamster', \"Dwarfhamster\"))\n",
    "    resOrdered <- res[order(res$pvalue),]\n",
    "    file = paste0(deseq2_results_path, celltype, \"_GoldvsDwarf_hd\", \".csv\")\n",
    "    write.csv(as.data.frame(resOrdered), file=file)\n",
    "}\n"
   ]
  },
  {
   "attachments": {},
   "cell_type": "markdown",
   "id": "0ab820cf",
   "metadata": {
    "heading_collapsed": true
   },
   "source": [
    "# run3"
   ]
  },
  {
   "cell_type": "code",
   "execution_count": 14,
   "id": "774e37ca",
   "metadata": {
    "ExecuteTime": {
     "end_time": "2023-01-31T10:14:37.292368Z",
     "start_time": "2023-01-31T10:14:21.629Z"
    },
    "hidden": true,
    "vscode": {
     "languageId": "r"
    }
   },
   "outputs": [
    {
     "name": "stderr",
     "output_type": "stream",
     "text": [
      "converting counts to integer mode\n",
      "\n",
      "Warning message in DESeqDataSet(se, design = design, ignoreRank):\n",
      "\"some variables in design formula are characters, converting to factors\"\n",
      "estimating size factors\n",
      "\n",
      "estimating dispersions\n",
      "\n",
      "gene-wise dispersion estimates\n",
      "\n",
      "mean-dispersion relationship\n",
      "\n",
      "final dispersion estimates\n",
      "\n",
      "fitting model and testing\n",
      "\n",
      "converting counts to integer mode\n",
      "\n",
      "Warning message in DESeqDataSet(se, design = design, ignoreRank):\n",
      "\"some variables in design formula are characters, converting to factors\"\n",
      "estimating size factors\n",
      "\n",
      "estimating dispersions\n",
      "\n",
      "gene-wise dispersion estimates\n",
      "\n",
      "mean-dispersion relationship\n",
      "\n",
      "final dispersion estimates\n",
      "\n",
      "fitting model and testing\n",
      "\n",
      "converting counts to integer mode\n",
      "\n",
      "Warning message in DESeqDataSet(se, design = design, ignoreRank):\n",
      "\"some variables in design formula are characters, converting to factors\"\n",
      "estimating size factors\n",
      "\n",
      "estimating dispersions\n",
      "\n",
      "gene-wise dispersion estimates\n",
      "\n",
      "mean-dispersion relationship\n",
      "\n",
      "final dispersion estimates\n",
      "\n",
      "fitting model and testing\n",
      "\n"
     ]
    }
   ],
   "source": [
    "# run 3 DESeq2 per celltype: time * organism vs time + organism, which gene time courses are different \n",
    "# between organisms other than additive effects\n",
    "for (celltype in c('Neutrophils', 'Endothelials', 'Macrophages')){\n",
    "    mask = colData$celltype %in% c(celltype) & colData$time %in% c('D0', 'D2', 'D3') &\n",
    "           colData$dosage != 'low dose' & colData$ncells >= 20\n",
    "    scolData = colData[mask, ]\n",
    "    scountData = countData[, mask]\n",
    "\n",
    "    # Setup data and supply design matrix\n",
    "    dds <- DESeqDataSetFromMatrix(countData = scountData, colData = scolData,\n",
    "                                  design = ~ time * organism)\n",
    "    dds <- collapseReplicates(dds, dds$replicate)\n",
    "    # Filter genes below 10 counts in total\n",
    "    dds <- dds[rowSums(counts(dds)) >= 10,]\n",
    "    # Setup deseq with single cell recommendations, add reduced design matrix\n",
    "    dds <- DESeq(dds, test=\"LRT\", minReplicatesForReplace=Inf, reduced= ~ time + organism)\n",
    "\n",
    "    res <- results(dds, contrast=c(\"organism\", 'Goldhamster', \"Dwarfhamster\"))\n",
    "    resOrdered <- res[order(res$pvalue),]\n",
    "    file = paste0(deseq2_results_path, celltype, \"_GoldvsDwarf_hd_interaction\", \".csv\")\n",
    "    write.csv(as.data.frame(resOrdered), file=file)\n",
    "}\n"
   ]
  },
  {
   "attachments": {},
   "cell_type": "markdown",
   "id": "bfa4a2d1",
   "metadata": {
    "heading_collapsed": true
   },
   "source": [
    "# run4 (deprecated)"
   ]
  },
  {
   "cell_type": "code",
   "execution_count": 15,
   "id": "28bf5d7e",
   "metadata": {
    "ExecuteTime": {
     "end_time": "2022-11-12T09:46:07.120364Z",
     "start_time": "2022-11-12T09:45:36.110Z"
    },
    "hidden": true,
    "vscode": {
     "languageId": "r"
    }
   },
   "outputs": [
    {
     "name": "stderr",
     "output_type": "stream",
     "text": [
      "converting counts to integer mode\n",
      "\n",
      "Warning message in DESeqDataSet(se, design = design, ignoreRank):\n",
      "\"some variables in design formula are characters, converting to factors\"\n",
      "estimating size factors\n",
      "\n",
      "estimating dispersions\n",
      "\n",
      "gene-wise dispersion estimates\n",
      "\n",
      "mean-dispersion relationship\n",
      "\n",
      "final dispersion estimates\n",
      "\n",
      "fitting model and testing\n",
      "\n",
      "converting counts to integer mode\n",
      "\n",
      "Warning message in DESeqDataSet(se, design = design, ignoreRank):\n",
      "\"some variables in design formula are characters, converting to factors\"\n",
      "estimating size factors\n",
      "\n",
      "estimating dispersions\n",
      "\n",
      "gene-wise dispersion estimates\n",
      "\n",
      "mean-dispersion relationship\n",
      "\n",
      "final dispersion estimates\n",
      "\n",
      "fitting model and testing\n",
      "\n",
      "converting counts to integer mode\n",
      "\n",
      "Warning message in DESeqDataSet(se, design = design, ignoreRank):\n",
      "\"some variables in design formula are characters, converting to factors\"\n",
      "estimating size factors\n",
      "\n",
      "estimating dispersions\n",
      "\n",
      "gene-wise dispersion estimates\n",
      "\n",
      "mean-dispersion relationship\n",
      "\n",
      "final dispersion estimates\n",
      "\n",
      "fitting model and testing\n",
      "\n"
     ]
    }
   ],
   "source": [
    "# run 4 DESeq2 per celltype: infection * organism vs infection + organism, which gene regulation upon infection is different \n",
    "# between organisms other than additive effects\n",
    "for (celltype in c('Neutrophils', 'Endothelials', 'Macrophages')){\n",
    "    mask = colData$celltype %in% c(celltype) & colData$time %in% c('D0', 'D2')\n",
    "    scolData = colData[mask, ]\n",
    "    scountData = countData[, mask]\n",
    "\n",
    "    # Setup data and supply design matrix\n",
    "    dds <- DESeqDataSetFromMatrix(countData = scountData, colData = scolData,\n",
    "                                  design = ~ time * organism)\n",
    "    dds <- collapseReplicates(dds, dds$replicate)\n",
    "    # Filter genes below 10 counts in total\n",
    "    dds <- dds[rowSums(counts(dds)) >= 10,]\n",
    "    # Setup deseq with single cell recommendations, add reduced design matrix\n",
    "    dds <- DESeq(dds, test=\"LRT\", minReplicatesForReplace=Inf, reduced= ~ time + organism)\n",
    "\n",
    "    res <- results(dds, contrast=c(\"organism\", 'Goldhamster', \"Dwarfhamster\"))\n",
    "    resOrdered <- res[order(res$pvalue),]\n",
    "    file = paste0(\"./deseq2_results_\", celltype, \"_GoldvsDwarf_specific_interaction_D2\", \".csv\")\n",
    "    write.csv(as.data.frame(resOrdered), file=file)\n",
    "}\n"
   ]
  },
  {
   "cell_type": "code",
   "execution_count": null,
   "id": "ce59f3a6",
   "metadata": {
    "hidden": true,
    "vscode": {
     "languageId": "r"
    }
   },
   "outputs": [],
   "source": []
  },
  {
   "cell_type": "code",
   "execution_count": null,
   "id": "4b65c2ce",
   "metadata": {
    "hidden": true,
    "vscode": {
     "languageId": "r"
    }
   },
   "outputs": [],
   "source": []
  },
  {
   "cell_type": "code",
   "execution_count": null,
   "id": "ccd6da8a",
   "metadata": {
    "hidden": true,
    "vscode": {
     "languageId": "r"
    }
   },
   "outputs": [],
   "source": []
  }
 ],
 "metadata": {
  "hide_input": false,
  "kernelspec": {
   "display_name": "R",
   "language": "R",
   "name": "ir"
  },
  "language_info": {
   "codemirror_mode": "r",
   "file_extension": ".r",
   "mimetype": "text/x-r-source",
   "name": "R",
   "pygments_lexer": "r",
   "version": "4.2.2"
  }
 },
 "nbformat": 4,
 "nbformat_minor": 5
}
