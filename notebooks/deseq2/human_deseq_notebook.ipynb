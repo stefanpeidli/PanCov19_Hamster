{
 "cells": [
  {
   "cell_type": "code",
   "execution_count": 3,
   "id": "7ab71f36",
   "metadata": {
    "ExecuteTime": {
     "end_time": "2022-10-21T12:54:30.500348Z",
     "start_time": "2022-10-21T12:54:41.982Z"
    }
   },
   "outputs": [],
   "source": [
    "suppressMessages(library('DESeq2'))\n",
    "library('BiocParallel')\n",
    "register(MulticoreParam(4))"
   ]
  },
  {
   "cell_type": "code",
   "execution_count": 4,
   "id": "97e53fc3",
   "metadata": {
    "ExecuteTime": {
     "end_time": "2022-10-21T12:54:36.244800Z",
     "start_time": "2022-10-21T12:54:42.452Z"
    }
   },
   "outputs": [],
   "source": [
    "# load data\n",
    "countData <- read.csv(file = \"/fast/scratch/users/peidlis_c/countData.csv\", row.names=1)\n",
    "colData <- read.csv(file = \"/fast/scratch/users/peidlis_c/colData.csv\")"
   ]
  },
  {
   "cell_type": "code",
   "execution_count": 5,
   "id": "7f41e841",
   "metadata": {
    "ExecuteTime": {
     "end_time": "2022-10-21T12:54:36.298135Z",
     "start_time": "2022-10-21T12:54:47.472Z"
    }
   },
   "outputs": [
    {
     "data": {
      "text/html": [
       "<table class=\"dataframe\">\n",
       "<caption>A data.frame: 339 × 4</caption>\n",
       "<thead>\n",
       "\t<tr><th scope=col>patient</th><th scope=col>celltype</th><th scope=col>disease</th><th scope=col>ncells</th></tr>\n",
       "\t<tr><th scope=col>&lt;chr&gt;</th><th scope=col>&lt;chr&gt;</th><th scope=col>&lt;chr&gt;</th><th scope=col>&lt;int&gt;</th></tr>\n",
       "</thead>\n",
       "<tbody>\n",
       "\t<tr><td>BAL009</td><td>Ciliated           </td><td>COVID19  </td><td> 233</td></tr>\n",
       "\t<tr><td>BAL009</td><td>Secretory          </td><td>COVID19  </td><td>  23</td></tr>\n",
       "\t<tr><td>BAL009</td><td>Basal              </td><td>COVID19  </td><td>  29</td></tr>\n",
       "\t<tr><td>BAL009</td><td>Monocyte           </td><td>COVID19  </td><td> 141</td></tr>\n",
       "\t<tr><td>BAL009</td><td>Md_macrophage      </td><td>COVID19  </td><td> 271</td></tr>\n",
       "\t<tr><td>BAL009</td><td>Alveolar_macrophage</td><td>COVID19  </td><td>  12</td></tr>\n",
       "\t<tr><td>BAL009</td><td>Neutrophil         </td><td>COVID19  </td><td> 407</td></tr>\n",
       "\t<tr><td>BAL009</td><td>CD4_Tcell          </td><td>COVID19  </td><td>  18</td></tr>\n",
       "\t<tr><td>BAL009</td><td>CD8_Tcell          </td><td>COVID19  </td><td>  15</td></tr>\n",
       "\t<tr><td>BAL009</td><td>NK                 </td><td>COVID19  </td><td>  21</td></tr>\n",
       "\t<tr><td>BAL009</td><td>cDC                </td><td>COVID19  </td><td>  28</td></tr>\n",
       "\t<tr><td>BAL011</td><td>Ciliated           </td><td>pneumonia</td><td>  15</td></tr>\n",
       "\t<tr><td>BAL011</td><td>Secretory          </td><td>pneumonia</td><td>  12</td></tr>\n",
       "\t<tr><td>BAL011</td><td>Basal              </td><td>pneumonia</td><td>  27</td></tr>\n",
       "\t<tr><td>BAL011</td><td>AT2                </td><td>pneumonia</td><td>  46</td></tr>\n",
       "\t<tr><td>BAL011</td><td>Monocyte           </td><td>pneumonia</td><td>  60</td></tr>\n",
       "\t<tr><td>BAL011</td><td>Md_macrophage      </td><td>pneumonia</td><td>  93</td></tr>\n",
       "\t<tr><td>BAL011</td><td>Alveolar_macrophage</td><td>pneumonia</td><td>  71</td></tr>\n",
       "\t<tr><td>BAL011</td><td>Neutrophil         </td><td>pneumonia</td><td>  98</td></tr>\n",
       "\t<tr><td>BAL011</td><td>CD8_Tcell          </td><td>pneumonia</td><td>  18</td></tr>\n",
       "\t<tr><td>BAL012</td><td>Ciliated           </td><td>COVID19  </td><td>  42</td></tr>\n",
       "\t<tr><td>BAL012</td><td>Monocyte           </td><td>COVID19  </td><td> 118</td></tr>\n",
       "\t<tr><td>BAL012</td><td>Md_macrophage      </td><td>COVID19  </td><td> 169</td></tr>\n",
       "\t<tr><td>BAL012</td><td>Neutrophil         </td><td>COVID19  </td><td> 125</td></tr>\n",
       "\t<tr><td>BAL012</td><td>CD4_Tcell          </td><td>COVID19  </td><td>  10</td></tr>\n",
       "\t<tr><td>BAL013</td><td>Monocyte           </td><td>COVID19  </td><td> 416</td></tr>\n",
       "\t<tr><td>BAL013</td><td>Md_macrophage      </td><td>COVID19  </td><td>  29</td></tr>\n",
       "\t<tr><td>BAL013</td><td>Neutrophil         </td><td>COVID19  </td><td>1450</td></tr>\n",
       "\t<tr><td>BAL013</td><td>CD4_Tcell          </td><td>COVID19  </td><td>  10</td></tr>\n",
       "\t<tr><td>BAL013</td><td>CD8_Tcell          </td><td>COVID19  </td><td>  11</td></tr>\n",
       "\t<tr><td>⋮</td><td>⋮</td><td>⋮</td><td>⋮</td></tr>\n",
       "\t<tr><td>BAL001</td><td>Squamous_KRT13     </td><td>pneumonia</td><td> 187</td></tr>\n",
       "\t<tr><td>BAL001</td><td>AT2                </td><td>pneumonia</td><td> 192</td></tr>\n",
       "\t<tr><td>BAL001</td><td>Monocyte           </td><td>pneumonia</td><td>  87</td></tr>\n",
       "\t<tr><td>BAL001</td><td>Md_macrophage      </td><td>pneumonia</td><td>  76</td></tr>\n",
       "\t<tr><td>BAL010</td><td>Ciliated           </td><td>pneumonia</td><td>  47</td></tr>\n",
       "\t<tr><td>BAL010</td><td>Secretory          </td><td>pneumonia</td><td> 469</td></tr>\n",
       "\t<tr><td>BAL010</td><td>Squamous_KRT13     </td><td>pneumonia</td><td> 394</td></tr>\n",
       "\t<tr><td>BAL010</td><td>Monocyte           </td><td>pneumonia</td><td> 698</td></tr>\n",
       "\t<tr><td>BAL010</td><td>Md_macrophage      </td><td>pneumonia</td><td>4081</td></tr>\n",
       "\t<tr><td>BAL010</td><td>Alveolar_macrophage</td><td>pneumonia</td><td>  49</td></tr>\n",
       "\t<tr><td>BAL010</td><td>Neutrophil         </td><td>pneumonia</td><td> 483</td></tr>\n",
       "\t<tr><td>BAL010</td><td>CD4_Tcell          </td><td>pneumonia</td><td>  46</td></tr>\n",
       "\t<tr><td>BAL010</td><td>CD8_Tcell          </td><td>pneumonia</td><td>  64</td></tr>\n",
       "\t<tr><td>BAL010</td><td>NK                 </td><td>pneumonia</td><td>  14</td></tr>\n",
       "\t<tr><td>BAL010</td><td>cDC                </td><td>pneumonia</td><td>  21</td></tr>\n",
       "\t<tr><td>BAL010</td><td>pDC                </td><td>pneumonia</td><td>  10</td></tr>\n",
       "\t<tr><td>BAL020</td><td>Ciliated           </td><td>COVID19  </td><td> 100</td></tr>\n",
       "\t<tr><td>BAL020</td><td>Secretory          </td><td>COVID19  </td><td> 287</td></tr>\n",
       "\t<tr><td>BAL020</td><td>Squamous_KRT13     </td><td>COVID19  </td><td>  95</td></tr>\n",
       "\t<tr><td>BAL020</td><td>AT2                </td><td>COVID19  </td><td>  99</td></tr>\n",
       "\t<tr><td>BAL020</td><td>Inflammatory       </td><td>COVID19  </td><td>  51</td></tr>\n",
       "\t<tr><td>BAL020</td><td>Monocyte           </td><td>COVID19  </td><td>  60</td></tr>\n",
       "\t<tr><td>BAL020</td><td>Md_macrophage      </td><td>COVID19  </td><td> 219</td></tr>\n",
       "\t<tr><td>BAL020</td><td>CD4_Tcell          </td><td>COVID19  </td><td>  71</td></tr>\n",
       "\t<tr><td>BAL020</td><td>CD8_Tcell          </td><td>COVID19  </td><td>  21</td></tr>\n",
       "\t<tr><td>BAL020</td><td>NK                 </td><td>COVID19  </td><td>  20</td></tr>\n",
       "\t<tr><td>BAL020</td><td>B_cell             </td><td>COVID19  </td><td>  18</td></tr>\n",
       "\t<tr><td>BAL020</td><td>Plasma_cell        </td><td>COVID19  </td><td> 223</td></tr>\n",
       "\t<tr><td>BAL020</td><td>cDC                </td><td>COVID19  </td><td>  90</td></tr>\n",
       "\t<tr><td>BAL020</td><td>pDC                </td><td>COVID19  </td><td>  51</td></tr>\n",
       "</tbody>\n",
       "</table>\n"
      ],
      "text/latex": [
       "A data.frame: 339 × 4\n",
       "\\begin{tabular}{llll}\n",
       " patient & celltype & disease & ncells\\\\\n",
       " <chr> & <chr> & <chr> & <int>\\\\\n",
       "\\hline\n",
       "\t BAL009 & Ciliated            & COVID19   &  233\\\\\n",
       "\t BAL009 & Secretory           & COVID19   &   23\\\\\n",
       "\t BAL009 & Basal               & COVID19   &   29\\\\\n",
       "\t BAL009 & Monocyte            & COVID19   &  141\\\\\n",
       "\t BAL009 & Md\\_macrophage       & COVID19   &  271\\\\\n",
       "\t BAL009 & Alveolar\\_macrophage & COVID19   &   12\\\\\n",
       "\t BAL009 & Neutrophil          & COVID19   &  407\\\\\n",
       "\t BAL009 & CD4\\_Tcell           & COVID19   &   18\\\\\n",
       "\t BAL009 & CD8\\_Tcell           & COVID19   &   15\\\\\n",
       "\t BAL009 & NK                  & COVID19   &   21\\\\\n",
       "\t BAL009 & cDC                 & COVID19   &   28\\\\\n",
       "\t BAL011 & Ciliated            & pneumonia &   15\\\\\n",
       "\t BAL011 & Secretory           & pneumonia &   12\\\\\n",
       "\t BAL011 & Basal               & pneumonia &   27\\\\\n",
       "\t BAL011 & AT2                 & pneumonia &   46\\\\\n",
       "\t BAL011 & Monocyte            & pneumonia &   60\\\\\n",
       "\t BAL011 & Md\\_macrophage       & pneumonia &   93\\\\\n",
       "\t BAL011 & Alveolar\\_macrophage & pneumonia &   71\\\\\n",
       "\t BAL011 & Neutrophil          & pneumonia &   98\\\\\n",
       "\t BAL011 & CD8\\_Tcell           & pneumonia &   18\\\\\n",
       "\t BAL012 & Ciliated            & COVID19   &   42\\\\\n",
       "\t BAL012 & Monocyte            & COVID19   &  118\\\\\n",
       "\t BAL012 & Md\\_macrophage       & COVID19   &  169\\\\\n",
       "\t BAL012 & Neutrophil          & COVID19   &  125\\\\\n",
       "\t BAL012 & CD4\\_Tcell           & COVID19   &   10\\\\\n",
       "\t BAL013 & Monocyte            & COVID19   &  416\\\\\n",
       "\t BAL013 & Md\\_macrophage       & COVID19   &   29\\\\\n",
       "\t BAL013 & Neutrophil          & COVID19   & 1450\\\\\n",
       "\t BAL013 & CD4\\_Tcell           & COVID19   &   10\\\\\n",
       "\t BAL013 & CD8\\_Tcell           & COVID19   &   11\\\\\n",
       "\t ⋮ & ⋮ & ⋮ & ⋮\\\\\n",
       "\t BAL001 & Squamous\\_KRT13      & pneumonia &  187\\\\\n",
       "\t BAL001 & AT2                 & pneumonia &  192\\\\\n",
       "\t BAL001 & Monocyte            & pneumonia &   87\\\\\n",
       "\t BAL001 & Md\\_macrophage       & pneumonia &   76\\\\\n",
       "\t BAL010 & Ciliated            & pneumonia &   47\\\\\n",
       "\t BAL010 & Secretory           & pneumonia &  469\\\\\n",
       "\t BAL010 & Squamous\\_KRT13      & pneumonia &  394\\\\\n",
       "\t BAL010 & Monocyte            & pneumonia &  698\\\\\n",
       "\t BAL010 & Md\\_macrophage       & pneumonia & 4081\\\\\n",
       "\t BAL010 & Alveolar\\_macrophage & pneumonia &   49\\\\\n",
       "\t BAL010 & Neutrophil          & pneumonia &  483\\\\\n",
       "\t BAL010 & CD4\\_Tcell           & pneumonia &   46\\\\\n",
       "\t BAL010 & CD8\\_Tcell           & pneumonia &   64\\\\\n",
       "\t BAL010 & NK                  & pneumonia &   14\\\\\n",
       "\t BAL010 & cDC                 & pneumonia &   21\\\\\n",
       "\t BAL010 & pDC                 & pneumonia &   10\\\\\n",
       "\t BAL020 & Ciliated            & COVID19   &  100\\\\\n",
       "\t BAL020 & Secretory           & COVID19   &  287\\\\\n",
       "\t BAL020 & Squamous\\_KRT13      & COVID19   &   95\\\\\n",
       "\t BAL020 & AT2                 & COVID19   &   99\\\\\n",
       "\t BAL020 & Inflammatory        & COVID19   &   51\\\\\n",
       "\t BAL020 & Monocyte            & COVID19   &   60\\\\\n",
       "\t BAL020 & Md\\_macrophage       & COVID19   &  219\\\\\n",
       "\t BAL020 & CD4\\_Tcell           & COVID19   &   71\\\\\n",
       "\t BAL020 & CD8\\_Tcell           & COVID19   &   21\\\\\n",
       "\t BAL020 & NK                  & COVID19   &   20\\\\\n",
       "\t BAL020 & B\\_cell              & COVID19   &   18\\\\\n",
       "\t BAL020 & Plasma\\_cell         & COVID19   &  223\\\\\n",
       "\t BAL020 & cDC                 & COVID19   &   90\\\\\n",
       "\t BAL020 & pDC                 & COVID19   &   51\\\\\n",
       "\\end{tabular}\n"
      ],
      "text/markdown": [
       "\n",
       "A data.frame: 339 × 4\n",
       "\n",
       "| patient &lt;chr&gt; | celltype &lt;chr&gt; | disease &lt;chr&gt; | ncells &lt;int&gt; |\n",
       "|---|---|---|---|\n",
       "| BAL009 | Ciliated            | COVID19   |  233 |\n",
       "| BAL009 | Secretory           | COVID19   |   23 |\n",
       "| BAL009 | Basal               | COVID19   |   29 |\n",
       "| BAL009 | Monocyte            | COVID19   |  141 |\n",
       "| BAL009 | Md_macrophage       | COVID19   |  271 |\n",
       "| BAL009 | Alveolar_macrophage | COVID19   |   12 |\n",
       "| BAL009 | Neutrophil          | COVID19   |  407 |\n",
       "| BAL009 | CD4_Tcell           | COVID19   |   18 |\n",
       "| BAL009 | CD8_Tcell           | COVID19   |   15 |\n",
       "| BAL009 | NK                  | COVID19   |   21 |\n",
       "| BAL009 | cDC                 | COVID19   |   28 |\n",
       "| BAL011 | Ciliated            | pneumonia |   15 |\n",
       "| BAL011 | Secretory           | pneumonia |   12 |\n",
       "| BAL011 | Basal               | pneumonia |   27 |\n",
       "| BAL011 | AT2                 | pneumonia |   46 |\n",
       "| BAL011 | Monocyte            | pneumonia |   60 |\n",
       "| BAL011 | Md_macrophage       | pneumonia |   93 |\n",
       "| BAL011 | Alveolar_macrophage | pneumonia |   71 |\n",
       "| BAL011 | Neutrophil          | pneumonia |   98 |\n",
       "| BAL011 | CD8_Tcell           | pneumonia |   18 |\n",
       "| BAL012 | Ciliated            | COVID19   |   42 |\n",
       "| BAL012 | Monocyte            | COVID19   |  118 |\n",
       "| BAL012 | Md_macrophage       | COVID19   |  169 |\n",
       "| BAL012 | Neutrophil          | COVID19   |  125 |\n",
       "| BAL012 | CD4_Tcell           | COVID19   |   10 |\n",
       "| BAL013 | Monocyte            | COVID19   |  416 |\n",
       "| BAL013 | Md_macrophage       | COVID19   |   29 |\n",
       "| BAL013 | Neutrophil          | COVID19   | 1450 |\n",
       "| BAL013 | CD4_Tcell           | COVID19   |   10 |\n",
       "| BAL013 | CD8_Tcell           | COVID19   |   11 |\n",
       "| ⋮ | ⋮ | ⋮ | ⋮ |\n",
       "| BAL001 | Squamous_KRT13      | pneumonia |  187 |\n",
       "| BAL001 | AT2                 | pneumonia |  192 |\n",
       "| BAL001 | Monocyte            | pneumonia |   87 |\n",
       "| BAL001 | Md_macrophage       | pneumonia |   76 |\n",
       "| BAL010 | Ciliated            | pneumonia |   47 |\n",
       "| BAL010 | Secretory           | pneumonia |  469 |\n",
       "| BAL010 | Squamous_KRT13      | pneumonia |  394 |\n",
       "| BAL010 | Monocyte            | pneumonia |  698 |\n",
       "| BAL010 | Md_macrophage       | pneumonia | 4081 |\n",
       "| BAL010 | Alveolar_macrophage | pneumonia |   49 |\n",
       "| BAL010 | Neutrophil          | pneumonia |  483 |\n",
       "| BAL010 | CD4_Tcell           | pneumonia |   46 |\n",
       "| BAL010 | CD8_Tcell           | pneumonia |   64 |\n",
       "| BAL010 | NK                  | pneumonia |   14 |\n",
       "| BAL010 | cDC                 | pneumonia |   21 |\n",
       "| BAL010 | pDC                 | pneumonia |   10 |\n",
       "| BAL020 | Ciliated            | COVID19   |  100 |\n",
       "| BAL020 | Secretory           | COVID19   |  287 |\n",
       "| BAL020 | Squamous_KRT13      | COVID19   |   95 |\n",
       "| BAL020 | AT2                 | COVID19   |   99 |\n",
       "| BAL020 | Inflammatory        | COVID19   |   51 |\n",
       "| BAL020 | Monocyte            | COVID19   |   60 |\n",
       "| BAL020 | Md_macrophage       | COVID19   |  219 |\n",
       "| BAL020 | CD4_Tcell           | COVID19   |   71 |\n",
       "| BAL020 | CD8_Tcell           | COVID19   |   21 |\n",
       "| BAL020 | NK                  | COVID19   |   20 |\n",
       "| BAL020 | B_cell              | COVID19   |   18 |\n",
       "| BAL020 | Plasma_cell         | COVID19   |  223 |\n",
       "| BAL020 | cDC                 | COVID19   |   90 |\n",
       "| BAL020 | pDC                 | COVID19   |   51 |\n",
       "\n"
      ],
      "text/plain": [
       "    patient celltype            disease   ncells\n",
       "1   BAL009  Ciliated            COVID19    233  \n",
       "2   BAL009  Secretory           COVID19     23  \n",
       "3   BAL009  Basal               COVID19     29  \n",
       "4   BAL009  Monocyte            COVID19    141  \n",
       "5   BAL009  Md_macrophage       COVID19    271  \n",
       "6   BAL009  Alveolar_macrophage COVID19     12  \n",
       "7   BAL009  Neutrophil          COVID19    407  \n",
       "8   BAL009  CD4_Tcell           COVID19     18  \n",
       "9   BAL009  CD8_Tcell           COVID19     15  \n",
       "10  BAL009  NK                  COVID19     21  \n",
       "11  BAL009  cDC                 COVID19     28  \n",
       "12  BAL011  Ciliated            pneumonia   15  \n",
       "13  BAL011  Secretory           pneumonia   12  \n",
       "14  BAL011  Basal               pneumonia   27  \n",
       "15  BAL011  AT2                 pneumonia   46  \n",
       "16  BAL011  Monocyte            pneumonia   60  \n",
       "17  BAL011  Md_macrophage       pneumonia   93  \n",
       "18  BAL011  Alveolar_macrophage pneumonia   71  \n",
       "19  BAL011  Neutrophil          pneumonia   98  \n",
       "20  BAL011  CD8_Tcell           pneumonia   18  \n",
       "21  BAL012  Ciliated            COVID19     42  \n",
       "22  BAL012  Monocyte            COVID19    118  \n",
       "23  BAL012  Md_macrophage       COVID19    169  \n",
       "24  BAL012  Neutrophil          COVID19    125  \n",
       "25  BAL012  CD4_Tcell           COVID19     10  \n",
       "26  BAL013  Monocyte            COVID19    416  \n",
       "27  BAL013  Md_macrophage       COVID19     29  \n",
       "28  BAL013  Neutrophil          COVID19   1450  \n",
       "29  BAL013  CD4_Tcell           COVID19     10  \n",
       "30  BAL013  CD8_Tcell           COVID19     11  \n",
       "⋮   ⋮       ⋮                   ⋮         ⋮     \n",
       "310 BAL001  Squamous_KRT13      pneumonia  187  \n",
       "311 BAL001  AT2                 pneumonia  192  \n",
       "312 BAL001  Monocyte            pneumonia   87  \n",
       "313 BAL001  Md_macrophage       pneumonia   76  \n",
       "314 BAL010  Ciliated            pneumonia   47  \n",
       "315 BAL010  Secretory           pneumonia  469  \n",
       "316 BAL010  Squamous_KRT13      pneumonia  394  \n",
       "317 BAL010  Monocyte            pneumonia  698  \n",
       "318 BAL010  Md_macrophage       pneumonia 4081  \n",
       "319 BAL010  Alveolar_macrophage pneumonia   49  \n",
       "320 BAL010  Neutrophil          pneumonia  483  \n",
       "321 BAL010  CD4_Tcell           pneumonia   46  \n",
       "322 BAL010  CD8_Tcell           pneumonia   64  \n",
       "323 BAL010  NK                  pneumonia   14  \n",
       "324 BAL010  cDC                 pneumonia   21  \n",
       "325 BAL010  pDC                 pneumonia   10  \n",
       "326 BAL020  Ciliated            COVID19    100  \n",
       "327 BAL020  Secretory           COVID19    287  \n",
       "328 BAL020  Squamous_KRT13      COVID19     95  \n",
       "329 BAL020  AT2                 COVID19     99  \n",
       "330 BAL020  Inflammatory        COVID19     51  \n",
       "331 BAL020  Monocyte            COVID19     60  \n",
       "332 BAL020  Md_macrophage       COVID19    219  \n",
       "333 BAL020  CD4_Tcell           COVID19     71  \n",
       "334 BAL020  CD8_Tcell           COVID19     21  \n",
       "335 BAL020  NK                  COVID19     20  \n",
       "336 BAL020  B_cell              COVID19     18  \n",
       "337 BAL020  Plasma_cell         COVID19    223  \n",
       "338 BAL020  cDC                 COVID19     90  \n",
       "339 BAL020  pDC                 COVID19     51  "
      ]
     },
     "metadata": {},
     "output_type": "display_data"
    }
   ],
   "source": [
    "colData"
   ]
  },
  {
   "cell_type": "code",
   "execution_count": 6,
   "id": "fb82fad4",
   "metadata": {
    "ExecuteTime": {
     "end_time": "2022-10-21T12:55:32.624495Z",
     "start_time": "2022-10-21T12:55:44.111Z"
    }
   },
   "outputs": [],
   "source": [
    "celltype='Neutrophil'"
   ]
  },
  {
   "cell_type": "code",
   "execution_count": 7,
   "id": "364e63db",
   "metadata": {
    "ExecuteTime": {
     "end_time": "2022-10-21T12:55:38.440673Z",
     "start_time": "2022-10-21T12:55:49.924Z"
    }
   },
   "outputs": [],
   "source": [
    "# I could encode time as a numerical variable though... but I bet deseq will throw an error there.\n",
    "# select times where we can compare organisms (otherwise this will be statistically difficult / impossible).\n",
    "mask = colData$celltype %in% c(celltype)\n",
    "scolData = colData[mask, ]\n",
    "scountData = countData[, mask]\n",
    "# head(scolData)"
   ]
  },
  {
   "cell_type": "code",
   "execution_count": 8,
   "id": "2659e0b4",
   "metadata": {
    "ExecuteTime": {
     "end_time": "2022-10-21T12:56:07.796132Z",
     "start_time": "2022-10-21T12:56:18.743Z"
    }
   },
   "outputs": [
    {
     "name": "stderr",
     "output_type": "stream",
     "text": [
      "converting counts to integer mode\n",
      "\n",
      "Warning message in DESeqDataSet(se, design = design, ignoreRank):\n",
      "“some variables in design formula are characters, converting to factors”\n"
     ]
    }
   ],
   "source": [
    "# this is where the magic happens\n",
    "design = ~ disease\n",
    "reduced = ~ 1\n",
    "\n",
    "# Setup data and supply design matrix\n",
    "dds <- DESeqDataSetFromMatrix(countData = scountData, colData = scolData,\n",
    "                              design = design)"
   ]
  },
  {
   "cell_type": "code",
   "execution_count": 9,
   "id": "73ecbeb6",
   "metadata": {
    "ExecuteTime": {
     "end_time": "2022-10-21T12:56:24.006850Z",
     "start_time": "2022-10-21T12:56:27.620Z"
    }
   },
   "outputs": [
    {
     "name": "stderr",
     "output_type": "stream",
     "text": [
      "estimating size factors\n",
      "\n",
      "estimating dispersions\n",
      "\n",
      "gene-wise dispersion estimates\n",
      "\n",
      "mean-dispersion relationship\n",
      "\n",
      "final dispersion estimates\n",
      "\n",
      "fitting model and testing\n",
      "\n"
     ]
    }
   ],
   "source": [
    "# Filter genes below 10 counts in total\n",
    "dds <- dds[rowSums(counts(dds)) >= 10,]\n",
    "# Setup deseq with single cell recommendations, add reduced design matrix\n",
    "dds <- DESeq(dds, test=\"LRT\", minReplicatesForReplace=Inf, reduced=reduced)"
   ]
  },
  {
   "cell_type": "code",
   "execution_count": 10,
   "id": "71920be9",
   "metadata": {
    "ExecuteTime": {
     "end_time": "2022-10-21T12:56:33.117305Z",
     "start_time": "2022-10-21T12:56:44.558Z"
    }
   },
   "outputs": [
    {
     "data": {
      "text/plain": [
       "class: DESeqDataSet \n",
       "dim: 9251 24 \n",
       "metadata(1): version\n",
       "assays(4): counts mu H cooks\n",
       "rownames(9251): AL669831.5 LINC00115 ... MT-ND6 MT-CYB\n",
       "rowData names(21): baseMean baseVar ... deviance maxCooks\n",
       "colnames(24): X6 X18 ... X284 X319\n",
       "colData names(5): patient celltype disease ncells sizeFactor"
      ]
     },
     "metadata": {},
     "output_type": "display_data"
    }
   ],
   "source": [
    "dds"
   ]
  },
  {
   "cell_type": "code",
   "execution_count": 11,
   "id": "21fcbb23",
   "metadata": {
    "ExecuteTime": {
     "end_time": "2022-10-21T12:56:52.553114Z",
     "start_time": "2022-10-21T12:56:52.597Z"
    }
   },
   "outputs": [
    {
     "data": {
      "text/plain": [
       "log2 fold change (MLE): disease pneumonia vs COVID19 \n",
       "LRT p-value: '~ disease' vs '~ 1' \n",
       "DataFrame with 9251 rows and 6 columns\n",
       "            baseMean log2FoldChange     lfcSE      stat      pvalue        padj\n",
       "           <numeric>      <numeric> <numeric> <numeric>   <numeric>   <numeric>\n",
       "C1QA         9.44533        3.54390  0.676555   33.5696 6.87598e-09 3.66696e-05\n",
       "MYOF         3.48569        3.69502  0.788228   28.1778 1.10667e-07 2.76962e-04\n",
       "C1QB        16.96813        3.57188  0.763493   27.5160 1.55801e-07 2.76962e-04\n",
       "MT2A        67.79880        2.63783  0.608455   24.2877 8.29664e-07 1.10615e-03\n",
       "C1QC        19.80480        3.51417  0.861392   21.0879 4.38700e-06 4.67917e-03\n",
       "...              ...            ...       ...       ...         ...         ...\n",
       "CCT8        2.362235       0.677385  1.038569  0.548424          NA          NA\n",
       "MAP3K7CL    0.490662       2.058329  3.630072  0.493376          NA          NA\n",
       "TMEM50B     0.930682       0.850607  0.896054  2.152258          NA          NA\n",
       "MX1        37.772884       0.913806  1.048897  0.854758          NA          NA\n",
       "AP001610.1  3.012142       1.074776  1.040702  1.341140          NA          NA"
      ]
     },
     "metadata": {},
     "output_type": "display_data"
    }
   ],
   "source": [
    "# Run deseq2\n",
    "res <- results(dds)\n",
    "resOrdered <- res[order(res$pvalue),]\n",
    "resOrdered"
   ]
  },
  {
   "cell_type": "code",
   "execution_count": 12,
   "id": "79410832",
   "metadata": {
    "ExecuteTime": {
     "end_time": "2022-10-21T12:58:07.545629Z",
     "start_time": "2022-10-21T12:58:18.964Z"
    }
   },
   "outputs": [],
   "source": [
    "write.csv(as.data.frame(resOrdered), file=paste0(\"./deseq2_results_\", celltype, \"_WautersLambrecht210121_pneumonia_vs_COVID19.csv\"))"
   ]
  }
 ],
 "metadata": {
  "hide_input": false,
  "kernelspec": {
   "display_name": "R",
   "language": "R",
   "name": "ir"
  },
  "language_info": {
   "codemirror_mode": "r",
   "file_extension": ".r",
   "mimetype": "text/x-r-source",
   "name": "R",
   "pygments_lexer": "r",
   "version": "4.1.3"
  }
 },
 "nbformat": 4,
 "nbformat_minor": 5
}
